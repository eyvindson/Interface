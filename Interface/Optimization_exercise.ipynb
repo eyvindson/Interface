{
 "cells": [
  {
   "cell_type": "code",
   "execution_count": null,
   "id": "fdd6f3c6",
   "metadata": {},
   "outputs": [],
   "source": [
    "%%javascript\n",
    "IPython.OutputArea.auto_scroll_threshold=9999"
   ]
  },
  {
   "cell_type": "code",
   "execution_count": null,
   "id": "50d7a37f",
   "metadata": {},
   "outputs": [],
   "source": [
    "import os\n",
    "import sys\n",
    "#dat = pd.read_hdf(\"C:/Users/kyey/Documents/Interface/DATA/DATA.h5\")\n",
    "#filename = \"DATA/DATA.h5\"\n",
    "module_path = os.path.abspath(os.path.join(''))\n",
    "module_path+\"\\\\Interface\"\n",
    "if module_path not in sys.path:\n",
    "    sys.path.append(module_path+\"/py_class\")\n",
    "\n",
    "import OPTIMIZATION as Opt"
   ]
  },
  {
   "cell_type": "code",
   "execution_count": null,
   "id": "ce67adae",
   "metadata": {},
   "outputs": [],
   "source": [
    "#BES -- bio economy strategy\n",
    "#BDS -- biodiversity strategy\n",
    "#NFS -- National forest strategy\n",
    "\n",
    "Opt.OptGUI(\"NFS\")"
   ]
  },
  {
   "cell_type": "code",
   "execution_count": null,
   "id": "c6e9d7b4",
   "metadata": {},
   "outputs": [],
   "source": []
  }
 ],
 "metadata": {
  "kernelspec": {
   "display_name": "Python 3 (ipykernel)",
   "language": "python",
   "name": "python3"
  },
  "language_info": {
   "codemirror_mode": {
    "name": "ipython",
    "version": 3
   },
   "file_extension": ".py",
   "mimetype": "text/x-python",
   "name": "python",
   "nbconvert_exporter": "python",
   "pygments_lexer": "ipython3",
   "version": "3.9.12"
  }
 },
 "nbformat": 4,
 "nbformat_minor": 5
}
