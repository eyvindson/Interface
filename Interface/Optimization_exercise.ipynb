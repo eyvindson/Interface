{
 "cells": [
  {
   "cell_type": "code",
   "execution_count": null,
   "id": "fdd6f3c6",
   "metadata": {},
   "outputs": [],
   "source": [
    "%%javascript\n",
    "IPython.OutputArea.auto_scroll_threshold=9999"
   ]
  },
  {
   "cell_type": "code",
   "execution_count": null,
   "id": "50d7a37f",
   "metadata": {},
   "outputs": [],
   "source": [
    "import os\n",
    "import sys\n",
    "module_path = os.path.abspath(os.path.join(''))\n",
    "if module_path not in sys.path:\n",
    "    sys.path.append(module_path+\"/py_class\")\n",
    "\n",
    "import OPTIMIZATION as Opt"
   ]
  },
  {
   "cell_type": "code",
   "execution_count": null,
   "id": "ce67adae",
   "metadata": {},
   "outputs": [],
   "source": [
    "#BES -- bio economy strategy\n",
    "#BDS -- biodiversity strategy\n",
    "#NFS -- National forest strategy\n",
    "\n",
    "BES = Opt.OptGUI(\"BES\")"
   ]
  },
  {
   "cell_type": "code",
   "execution_count": null,
   "id": "c8a5315a",
   "metadata": {},
   "outputs": [],
   "source": []
  }
 ],
 "metadata": {
  "kernelspec": {
   "display_name": "Python 3 (ipykernel)",
   "language": "python",
   "name": "python3"
  },
  "language_info": {
   "codemirror_mode": {
    "name": "ipython",
    "version": 3
   },
   "file_extension": ".py",
   "mimetype": "text/x-python",
   "name": "python",
   "nbconvert_exporter": "python",
   "pygments_lexer": "ipython3",
   "version": "3.9.12"
  }
 },
 "nbformat": 4,
 "nbformat_minor": 5
}
