{
 "cells": [
  {
   "cell_type": "code",
   "execution_count": 1,
   "id": "fdd6f3c6",
   "metadata": {},
   "outputs": [
    {
     "data": {
      "application/javascript": [
       "IPython.OutputArea.auto_scroll_threshold=9999\n"
      ],
      "text/plain": [
       "<IPython.core.display.Javascript object>"
      ]
     },
     "metadata": {},
     "output_type": "display_data"
    }
   ],
   "source": [
    "%%javascript\n",
    "IPython.OutputArea.auto_scroll_threshold=9999"
   ]
  },
  {
   "cell_type": "code",
   "execution_count": 2,
   "id": "50d7a37f",
   "metadata": {},
   "outputs": [],
   "source": [
    "\n",
    "\n",
    "import os\n",
    "import sys\n",
    "#dat = pd.read_hdf(\"C:/Users/kyey/Documents/Interface/DATA/DATA.h5\")\n",
    "#filename = \"DATA/DATA.h5\"\n",
    "module_path = os.path.abspath(os.path.join(''))\n",
    "module_path+\"\\\\Interface\"\n",
    "if module_path not in sys.path:\n",
    "    sys.path.append(module_path+\"/py_class\")\n",
    "\n",
    "import OPTIMIZATION as Opt\n"
   ]
  },
  {
   "cell_type": "code",
   "execution_count": 3,
   "id": "ce67adae",
   "metadata": {},
   "outputs": [
    {
     "data": {
      "text/plain": [
       "'Using CLP'"
      ]
     },
     "metadata": {},
     "output_type": "display_data"
    },
    {
     "name": "stdout",
     "output_type": "stream",
     "text": [
      "objectives for NFS loaded\n"
     ]
    },
    {
     "data": {
      "text/plain": [
       "'Defining objectives'"
      ]
     },
     "metadata": {},
     "output_type": "display_data"
    },
    {
     "data": {
      "text/plain": [
       "'Aggregating stand wise'"
      ]
     },
     "metadata": {},
     "output_type": "display_data"
    },
    {
     "data": {
      "text/plain": [
       "'Aggregating year wise'"
      ]
     },
     "metadata": {},
     "output_type": "display_data"
    },
    {
     "data": {
      "text/plain": [
       "'Objectives added'"
      ]
     },
     "metadata": {},
     "output_type": "display_data"
    },
    {
     "data": {
      "text/plain": [
       "'Calculating objective ranges'"
      ]
     },
     "metadata": {},
     "output_type": "display_data"
    },
    {
     "data": {
      "text/html": [
       "<style>\n",
       "            .widget-label { min-width: 60% !important; }\n",
       "        </style>"
      ],
      "text/plain": [
       "<IPython.core.display.HTML object>"
      ]
     },
     "metadata": {},
     "output_type": "display_data"
    },
    {
     "data": {
      "text/html": [
       "<h2>Constraint values</h2>"
      ],
      "text/plain": [
       "<IPython.core.display.HTML object>"
      ]
     },
     "metadata": {},
     "output_type": "display_data"
    },
    {
     "data": {
      "application/vnd.jupyter.widget-view+json": {
       "model_id": "0d9415d707fa4c9789c6ae0cdb242148",
       "version_major": 2,
       "version_minor": 0
      },
      "text/plain": [
       "interactive(children=(FloatSlider(value=0.0, description='Total annual timber volume increment by 2025 (m3)', …"
      ]
     },
     "metadata": {},
     "output_type": "display_data"
    },
    {
     "data": {
      "text/html": [
       "<h2>Reference point</h2>"
      ],
      "text/plain": [
       "<IPython.core.display.HTML object>"
      ]
     },
     "metadata": {},
     "output_type": "display_data"
    },
    {
     "data": {
      "application/vnd.jupyter.widget-view+json": {
       "model_id": "ff433898dc414ccaad5340e89f74d748",
       "version_major": 2,
       "version_minor": 0
      },
      "text/plain": [
       "interactive(children=(FloatSlider(value=898.1076554482537, description='Total annual timber volume increment b…"
      ]
     },
     "metadata": {},
     "output_type": "display_data"
    },
    {
     "data": {
      "text/plain": [
       "<OPTIMIZATION.Opt at 0x2546a96fd00>"
      ]
     },
     "execution_count": 3,
     "metadata": {},
     "output_type": "execute_result"
    }
   ],
   "source": [
    "#BES -- bio economy strategy\n",
    "#BDS -- biodiversity strategy\n",
    "#National forest strategy\n",
    "\n",
    "Opt.Opt(\"NFS\")"
   ]
  },
  {
   "cell_type": "code",
   "execution_count": null,
   "id": "359cbb90",
   "metadata": {
    "scrolled": true
   },
   "outputs": [],
   "source": [
    "import mapping as MT"
   ]
  },
  {
   "cell_type": "code",
   "execution_count": null,
   "id": "52d82220",
   "metadata": {
    "scrolled": false
   },
   "outputs": [],
   "source": [
    "Opt.mfo.data"
   ]
  },
  {
   "cell_type": "code",
   "execution_count": null,
   "id": "45ff3f76",
   "metadata": {},
   "outputs": [],
   "source": [
    "import ipywidgets as widgets\n",
    "from IPython.display import display, HTML\n",
    "\n",
    "def to_print_output(**kwargs):\n",
    "    display(kwargs)\n",
    "    return kwargs['values']#print()\n",
    "\n",
    "colOutputPrint = widgets.interactive(to_print_output,{\"manual\":True,\"manual_name\": \"Write complete solution to file\"},**{'values':[\"BAU\",\"NFS\",\"SSS\"]})\n",
    "\n",
    "\n",
    "@output.capture(clear_output=False,wait=True)#\n",
    "def to_print_output(**kwargs):\n",
    "    display(kwargs)\n",
    "    return kwargs['values']\n",
    "\n",
    "colOutputPrint = widgets.interactive(to_print_output,{\"manual\":True,\"manual_name\": \"Write complete solution to file\"},**{'values':[\"BAU\",\"NFS\",\"SSS\"]})\n",
    "display(HTML('''<style>\n",
    ".widget-label { min-width: 60% !important; }\n",
    "</style>'''))\n",
    "\n",
    "colOutputPrint\n",
    "\n",
    "\n"
   ]
  },
  {
   "cell_type": "code",
   "execution_count": null,
   "id": "649bb189",
   "metadata": {},
   "outputs": [],
   "source": [
    "from ipywidgets import Button\n",
    "import asyncio\n",
    "\n",
    "def wait_for_change(widget):\n",
    "    future = asyncio.Future()\n",
    "    def getvalue(change):\n",
    "        future.set_result(change.description)\n",
    "        widget.on_click(getvalue, remove=True) \n",
    "        # we need to free up the binding to getvalue to avoid an InvalidState error\n",
    "        # buttons don't support unobserve\n",
    "        # so use `remove=True` \n",
    "    widget.on_click(getvalue)\n",
    "    return future\n",
    "\n",
    "button = Button(description=\"wow\")\n",
    "\n",
    "list_to_tag = [\"one\", \"two\", \"three\", \"four\"]\n",
    "\n",
    "async def f():\n",
    "    for i in list_to_tag:\n",
    "        print(\"going to tag {}\".format(i))\n",
    "        x = await wait_for_change(button)\n",
    "        print(\"tagged {} with {}\".format(i, x))\n",
    "        print()\n",
    "\n",
    "asyncio.create_task(f())\n",
    "button\n",
    "\n"
   ]
  },
  {
   "cell_type": "code",
   "execution_count": null,
   "id": "f2c556fc",
   "metadata": {
    "scrolled": true
   },
   "outputs": [],
   "source": [
    "x"
   ]
  },
  {
   "cell_type": "code",
   "execution_count": null,
   "id": "49434eee",
   "metadata": {
    "scrolled": true
   },
   "outputs": [],
   "source": [
    "\n",
    "for i in Opt.mfo.constraints['SPATIAL'].keys():\n",
    "    Opt.mfo.constraints[\"SPATIAL\"][i].SetUb(1)\n"
   ]
  },
  {
   "cell_type": "code",
   "execution_count": null,
   "id": "f9b60053",
   "metadata": {
    "scrolled": true
   },
   "outputs": [],
   "source": [
    "import requests\n",
    "from pathlib import Path\n",
    "from zipfile import ZipFile\n",
    "import geopandas as gpd\n",
    "import numpy as np\n",
    "import plotly.express as px\n",
    "import plotly.graph_objs as go\n",
    "from ipywidgets import Button, HBox, VBox,interact\n",
    "from IPython.display import display, HTML\n",
    "from IPython.display import clear_output\n",
    "import ipywidgets as widgets\n",
    "import numpy\n",
    "\n",
    "\n",
    "# open it...\n",
    "\n",
    "geodf = gpd.read_file(\"C:/Users/kyey/Documents/Interface/Region.geojson\") ## Data with geometry\n",
    "# shape file is a different CRS,  change to lon/lat GPS co-ordinates\n",
    "geodf = geodf.to_crs(\"WGS84\")\n",
    "\n",
    "import pandas as pd\n",
    "#dat = pd.read_csv(\"C:/Users/kyey/Documents/DATA.csv\",sep=\";\") #Simulated data\n",
    "dat = pd.read_hdf(\"C:/Users/kyey/Documents/Interface/DATA/DATA.h5\")\n",
    "\n",
    "#Merging databases together - linking spatial information with simulated\n",
    "geometry = pd.DataFrame(list(set(dat['id'])),geodf['geometry'])\n",
    "d = {'geometry':geodf['geometry'], 'id1': list(set(dat['id']))}\n",
    "geometry = pd.DataFrame(d)\n",
    "\n",
    "geodf1 = dat.merge(geometry,left_on=\"id\",right_on=\"id1\")\n",
    "geometry = geodf1['geometry']\n",
    "geodf1.drop('geometry',axis=1)\n",
    "geodf1 = gpd.GeoDataFrame(geodf1,crs=\"WGS84\",geometry=geometry)\n",
    "\n",
    "\n",
    "def selection_fn_CONST(trace,points,selector):\n",
    "    geodf2 = self.geodf1[(self.geodf1['year'] == year) & (self.geodf1['regime'] == regime)]\n",
    "    global sel_stand\n",
    "    bb = [[geodf2.iloc[points.point_inds][col] for col in ['id']]]\n",
    "    sel_stand = [bb[0][0].iloc[i] for i in range(0,len(bb[0][0]))]\n",
    "    \n",
    "    \n",
    "def on_display_map_CONST(**kwargs):\n",
    "    display(kwargs)\n",
    "    clear_output()\n",
    "    geodf2 = self.geodf1[(self.geodf1['year'] == kwargs['year']) & (self.geodf1['regime'] == kwargs['regime'])]\n",
    "    fig = px.choropleth_mapbox(geodf2.set_index(\"id\"),    geojson=geodf2.geometry,    locations=geodf2.index,    color=kwargs['values'],    center=dict(lat= 62.82633, lon=21.259906),    mapbox_style=\"open-street-map\",opacity =0.4,    zoom=13,)\n",
    "    fig.update_layout(    height=500,    autosize=True,    margin={\"r\": 0, \"t\": 0, \"l\": 0, \"b\": 0})#\n",
    "    ff =go.FigureWidget(fig)\n",
    "    scatter = ff.data[0]\n",
    "    global year\n",
    "    global regime\n",
    "    year= kwargs['year']\n",
    "    regime=kwargs['regime']\n",
    "    scatter.on_selection(selection_fn)\n",
    "    display(VBox([ff]))\n",
    "\n",
    "colTypeChooser = widgets.interactive(self.on_display_map_CONST,{\"manual\":True,\"manual_name\": \"Display / Update Map\"},**{'values':list(self.geodf1.columns)[1:],'year':list(set(self.geodf1.year)),'regime':list(set(self.geodf1.regime))})\n",
    "\n",
    "        \n",
    "def showGUI():\n",
    "    display(HTML('''<style>\n",
    "    .widget-label { min-width: 60% !important; }\n",
    "    </style>'''))\n",
    "    display(colTypeChooser)\n",
    "showGUI()"
   ]
  },
  {
   "cell_type": "code",
   "execution_count": null,
   "id": "59624765",
   "metadata": {
    "scrolled": true
   },
   "outputs": [],
   "source": [
    "sel_stand"
   ]
  },
  {
   "cell_type": "code",
   "execution_count": null,
   "id": "4d429a5e",
   "metadata": {
    "scrolled": true
   },
   "outputs": [],
   "source": [
    "sel_stand"
   ]
  },
  {
   "cell_type": "code",
   "execution_count": null,
   "id": "1bee44be",
   "metadata": {
    "scrolled": true
   },
   "outputs": [],
   "source": [
    "import pandas as pd\n",
    "import geopandas as gpd\n",
    "\n",
    "geodf = gpd.read_file(\"C:/Users/kyey/Documents/Interface/Region.geojson\") ## Data with geometry\n",
    "# shape file is a different CRS,  change to lon/lat GPS co-ordinates\n",
    "geodf = geodf.to_crs(\"WGS84\")\n",
    "\n",
    "import pandas as pd\n",
    "#dat = pd.read_csv(\"C:/Users/kyey/Documents/DATA.csv\",sep=\";\") #Simulated data\n",
    "dat = pd.read_hdf(\"C:/Users/kyey/Documents/Interface/DATA/DATA.h5\")\n",
    "\n",
    "#Merging databases together - linking spatial information with simulated\n",
    "geometry = pd.DataFrame(list(set(dat['id'])),geodf['geometry'])\n",
    "d = {'geometry':geodf['geometry'], 'id1': list(set(dat['id']))}\n",
    "geometry = pd.DataFrame(d)\n",
    "\n",
    "geodf1 = dat.merge(geometry,left_on=\"id\",right_on=\"id1\")\n",
    "geometry = geodf1['geometry']\n",
    "geodf1.drop('geometry',axis=1)\n",
    "geodf1 = gpd.GeoDataFrame(geodf1,crs=\"WGS84\",geometry=geometry)\n"
   ]
  },
  {
   "cell_type": "code",
   "execution_count": null,
   "id": "248b521f",
   "metadata": {
    "scrolled": true
   },
   "outputs": [],
   "source": [
    "geodf1"
   ]
  },
  {
   "cell_type": "code",
   "execution_count": null,
   "id": "96630276",
   "metadata": {
    "scrolled": true
   },
   "outputs": [],
   "source": [
    "Opt.mfo.standIds"
   ]
  },
  {
   "cell_type": "code",
   "execution_count": null,
   "id": "9644678f",
   "metadata": {
    "scrolled": true
   },
   "outputs": [],
   "source": [
    "import matplotlib.pyplot as plt\n",
    "import pandas\n",
    "fig, ax = plt.subplots(figsize=(8, 4), dpi=100)\n",
    "(Opt.mfo.result.groupby(['year']).sum()/Opt.mfo.data.loc[slice(None),2021,\"SA\"]['represented_area_by_NFIplot'].sum()).plot(use_index=True,y=\"V\",legend=False,title=\"V\",xlabel=\"Year\",ax=ax)"
   ]
  },
  {
   "cell_type": "code",
   "execution_count": null,
   "id": "71a612a4",
   "metadata": {
    "scrolled": true
   },
   "outputs": [],
   "source": [
    "Opt.mfo.data.loc[slice(None),2021,\"SA\"]['represented_area_by_NFIplot'].sum()"
   ]
  },
  {
   "cell_type": "code",
   "execution_count": null,
   "id": "1457de19",
   "metadata": {
    "scrolled": true
   },
   "outputs": [],
   "source": [
    "mfo.data"
   ]
  },
  {
   "cell_type": "code",
   "execution_count": null,
   "id": "a3178064",
   "metadata": {
    "scrolled": true
   },
   "outputs": [],
   "source": [
    "Opt.mfo.result.groupby(['id']).mean().columns#['AREA']"
   ]
  },
  {
   "cell_type": "code",
   "execution_count": null,
   "id": "f4ecdf32",
   "metadata": {
    "scrolled": true
   },
   "outputs": [],
   "source": [
    "Opt.mfo.data.loc[slice(None),2021,\"SA\"]['represented_area_by_NFIplot'].sum()#areaCol"
   ]
  },
  {
   "cell_type": "code",
   "execution_count": null,
   "id": "148b9239",
   "metadata": {
    "scrolled": true
   },
   "outputs": [],
   "source": [
    "import pandas as pd\n",
    "filename = \"DATA/DATA.h5\"\n",
    "data = pd.read_hdf(filename.split(\".\")[0]+\".h5\",key=\"df\")"
   ]
  },
  {
   "cell_type": "code",
   "execution_count": null,
   "id": "e58a07a1",
   "metadata": {
    "scrolled": true
   },
   "outputs": [],
   "source": [
    "data.to_hdf(filename.split(\".\")[0]+\"a.h5\",key=\"df\")"
   ]
  },
  {
   "cell_type": "code",
   "execution_count": null,
   "id": "c5cc4e1f",
   "metadata": {
    "scrolled": true
   },
   "outputs": [],
   "source": [
    "import geopandas as gpd\n",
    "import os\n",
    "module_path = os.path.abspath(os.path.join(''))\n",
    "geodf = gpd.read_file(module_path+ \"/Region.geojson\")"
   ]
  },
  {
   "cell_type": "code",
   "execution_count": null,
   "id": "372d2296",
   "metadata": {
    "scrolled": true
   },
   "outputs": [],
   "source": [
    "geodf['area']"
   ]
  },
  {
   "cell_type": "code",
   "execution_count": null,
   "id": "9a8f7261",
   "metadata": {
    "scrolled": true
   },
   "outputs": [],
   "source": [
    "k = 0\n",
    "for i in set(data['id']):\n",
    "    data.loc[data['id']==i,'represented_area_by_NFIplot']  = geodf['area'][k]\n",
    "    k = k+1"
   ]
  },
  {
   "cell_type": "code",
   "execution_count": null,
   "id": "544133f2",
   "metadata": {
    "scrolled": true
   },
   "outputs": [],
   "source": [
    "data = pd.read_hdf(filename.split(\".\")[0]+\"a.h5\",key=\"df\")"
   ]
  },
  {
   "cell_type": "code",
   "execution_count": null,
   "id": "7c4befb0",
   "metadata": {
    "scrolled": true
   },
   "outputs": [],
   "source": [
    "data"
   ]
  },
  {
   "cell_type": "code",
   "execution_count": null,
   "id": "673eb0f7",
   "metadata": {
    "scrolled": true
   },
   "outputs": [],
   "source": [
    "for standId in self.sel_stand:\n",
    "    self.constraints[\"SPATIAL\"][(standId,self.regime)] = self.solver.Add(self.regimesDecision[(standId,self.regime)]==1,name = \"Only\"+self.regime+\"with\"+self.constraintTypes[constraintName][3]+\"onStand\"+str(standId))"
   ]
  }
 ],
 "metadata": {
  "kernelspec": {
   "display_name": "Python 3 (ipykernel)",
   "language": "python",
   "name": "python3"
  },
  "language_info": {
   "codemirror_mode": {
    "name": "ipython",
    "version": 3
   },
   "file_extension": ".py",
   "mimetype": "text/x-python",
   "name": "python",
   "nbconvert_exporter": "python",
   "pygments_lexer": "ipython3",
   "version": "3.9.12"
  }
 },
 "nbformat": 4,
 "nbformat_minor": 5
}
