{
 "cells": [
  {
   "cell_type": "code",
   "execution_count": 5,
   "id": "87b1e097",
   "metadata": {},
   "outputs": [],
   "source": [
    "#DISPLAYING UNOPTIMIZED MAPS & Tables\n",
    "#MAP\n",
    "import requests\n",
    "from pathlib import Path\n",
    "from zipfile import ZipFile\n",
    "import geopandas as gpd\n",
    "import numpy as np\n",
    "import plotly.express as px\n",
    "import plotly.graph_objs as go\n",
    "from ipywidgets import Button, HBox, VBox,interact\n",
    "from IPython.display import display, HTML\n",
    "from IPython.display import clear_output\n",
    "import ipywidgets as widgets\n",
    "import numpy\n",
    "\n",
    "\n",
    "# open it...\n",
    "\n",
    "geodf = gpd.read_file(\"C:/Users/kyey/Documents/Region.geojson\") ## Data with geometry\n",
    "# shape file is a different CRS,  change to lon/lat GPS co-ordinates\n",
    "geodf = geodf.to_crs(\"WGS84\")\n",
    "\n",
    "import pandas as pd\n",
    "dat = pd.read_csv(\"C:/Users/kyey/Documents/DATA.csv\",sep=\";\") #Simulated data\n",
    "\n",
    "#Merging databases together - linking spatial information with simulated\n",
    "geometry = pd.DataFrame(list(set(dat['id'])),geodf['geometry'])\n",
    "d = {'geometry':geodf['geometry'], 'id1': list(set(dat['id']))}\n",
    "geometry = pd.DataFrame(d)\n",
    "\n",
    "geodf1 = dat.merge(geometry,left_on=\"id\",right_on=\"id1\")\n",
    "geometry = geodf1['geometry']\n",
    "geodf1.drop('geometry',axis=1)\n",
    "geodf1 = gpd.GeoDataFrame(geodf1,crs=\"WGS84\",geometry=geometry)\n",
    "\n",
    "\n",
    "def selection_fn(trace,points,selector):\n",
    "    if 't' in locals():\n",
    "        t.data[0].cells.values = [geodf2.iloc[points.point_inds][col] for col in ['id','Harvested_V','SC','Biomass']]#variables of interest in map -- could be a cross box (?)\n",
    "    global sel_stand\n",
    "    bb = [[geodf2.iloc[points.point_inds][col] for col in ['id']]]\n",
    "    sel_stand = [bb[0][0].iloc[i] for i in range(0,len(bb[0][0]))]\n",
    "    \n",
    "def on_display_map(**kwargs):\n",
    "    display(kwargs)\n",
    "    clear_output()\n",
    "    geodf2 = geodf1[(geodf1['year'] == kwargs['year']) & (geodf1['regime'] == kwargs['regime'])]\n",
    "    fig = px.choropleth_mapbox(geodf2.set_index(\"id\"),    geojson=geodf2.geometry,    locations=geodf2.index,    color=kwargs['values'],    center=dict(lat= 62.82633, lon=21.259906),    mapbox_style=\"open-street-map\",opacity =0.4,    zoom=13,)\n",
    "    fig.update_layout(    height=500,    autosize=True,    margin={\"r\": 0, \"t\": 0, \"l\": 0, \"b\": 0})#\n",
    "    ff =go.FigureWidget(fig)\n",
    "    scatter = ff.data[0]\n",
    "    scatter.on_selection(selection_fn)\n",
    "    display(VBox([ff]))\n",
    "\n",
    "def on_display_table(**kwargs):\n",
    "    clear_output()\n",
    "    if 'sel_stand' in globals():\n",
    "\n",
    "        t = go.FigureWidget([go.Table(\n",
    "            header=dict(values=['id']+[kwargs['1']+kwargs['2']+kwargs['3']],#variables of interest in map -- could be a cross box (?)\n",
    "                        fill = dict(color='#C2D4FF'),\n",
    "                        align = ['left'] * 5),\n",
    "            cells=dict(values=[geodf2[col] for col in ['id']+[kwargs['1']+kwargs['2']+kwargs['3']]],#variables of interest in map -- could be a cross box (?)\n",
    "                       fill = dict(color='#F5F8FF'),\n",
    "                       align = ['left'] * 5))])\n",
    "    display(VBox([t]))\n",
    "\n",
    "def on_display_table(**kwargs):\n",
    "    display(kwargs)\n",
    "    clear_output()\n",
    "    if 'sel_stand' in globals():\n",
    "        if kwargs['Year of interest'] != \"ALL\" and kwargs['Regime of interest'] != \"ALL\":\n",
    "            geodfv = geodf1[(geodf1['year'] == kwargs['Year of interest']) & (geodf1['regime'] == kwargs['Regime of interest'])]\n",
    "        elif kwargs['Year of interest'] == \"ALL\":\n",
    "            geodfv = geodf1[(geodf1['regime'] == kwargs['Regime of interest'])]\n",
    "        elif kwargs['Regime of interest'] == \"ALL\":\n",
    "            geodfv = geodf1[(geodf1['year'] == kwargs['Year of interest'])]\n",
    "        else:\n",
    "            geodfv = geodf1\n",
    "        t = go.FigureWidget([go.Table(\n",
    "            header=dict(values=['id']+[kwargs['Column 1'],kwargs['Column 2'],kwargs['Column 3']],#variables of interest in map -- could be a cross box (?)\n",
    "                        fill = dict(color='#C2D4FF'),\n",
    "                        align = ['left'] * 5),\n",
    "            cells=dict(values=[geodf1[col] for col in ['id']+[kwargs['Column 1'],kwargs['Column 2'],kwargs['Column 3']]],#variables of interest in map -- could be a cross box (?)\n",
    "                       fill = dict(color='#F5F8FF'),\n",
    "                       align = ['left'] * 5))])\n",
    "        display(VBox([t]))\n",
    "    else:\n",
    "        #display(\"Please display map first,selecting year and regime\")\n",
    "        t = go.FigureWidget([go.Table(\n",
    "            header=dict(values=['id',\"regime\"]+[kwargs['Column 1'],kwargs['Column 2'],kwargs['Column 3']],#variables of interest in map -- could be a cross box (?)\n",
    "                        fill = dict(color='#C2D4FF'),\n",
    "                        align = ['left'] * 5),\n",
    "            cells=dict(values=[geodf1[col] for col in ['id',\"regime\"]+[kwargs['Column 1'],kwargs['Column 2'],kwargs['Column 3']]],#variables of interest in map -- could be a cross box (?)\n",
    "                       fill = dict(color='#F5F8FF'),\n",
    "                       align = ['left'] * 5))])\n",
    "        display(VBox([t]))\n",
    "    \n",
    "\n",
    "colTypeChooser = widgets.interactive(on_display_map,{\"manual\":True,\"manual_name\": \"Display / Update Map\"},**{'values':list(geodf1.columns)[1:],'year':list(set(geodf1.year)),'regime':list(set(geodf1.regime))})\n",
    "\n",
    "TablecolTypeChooser = widgets.interactive(on_display_table,{\"manual\":True,\"manual_name\": \"Display / Update Table\"},**{'Year of interest':[\"ALL\"]+list(set(geodf1.year)),'Regime of interest':[\"ALL\"]+list(set(geodf1.regime)),'Column 1':list(geodf1.columns)[1:],'Column 2':list(geodf1.columns)[1:],'Column 3':list(geodf1.columns)[1:]})\n",
    "\n",
    "\n",
    "def showGUI():\n",
    "    display(HTML('''<style>\n",
    "    .widget-label { min-width: 60% !important; }\n",
    "    </style>'''))\n",
    "    display(colTypeChooser)\n",
    "\n",
    "    display(HTML('''<style>\n",
    "    .widget-label { min-width: 60% !important; }\n",
    "    </style>'''))\n",
    "    display(TablecolTypeChooser)"
   ]
  },
  {
   "cell_type": "code",
   "execution_count": 6,
   "id": "e7caf729",
   "metadata": {},
   "outputs": [
    {
     "data": {
      "text/html": [
       "<style>\n",
       "    .widget-label { min-width: 60% !important; }\n",
       "    </style>"
      ],
      "text/plain": [
       "<IPython.core.display.HTML object>"
      ]
     },
     "metadata": {},
     "output_type": "display_data"
    },
    {
     "data": {
      "application/vnd.jupyter.widget-view+json": {
       "model_id": "ff07b9e7c0a041d0ad7529ab9b3719df",
       "version_major": 2,
       "version_minor": 0
      },
      "text/plain": [
       "interactive(children=(Dropdown(description='values', options=('year', 'regime', 'V', 'i_Vm3', 'Harvested_V', '…"
      ]
     },
     "metadata": {},
     "output_type": "display_data"
    },
    {
     "data": {
      "text/html": [
       "<style>\n",
       "    .widget-label { min-width: 60% !important; }\n",
       "    </style>"
      ],
      "text/plain": [
       "<IPython.core.display.HTML object>"
      ]
     },
     "metadata": {},
     "output_type": "display_data"
    },
    {
     "data": {
      "application/vnd.jupyter.widget-view+json": {
       "model_id": "0125570e98f3428099b81fb796c7837c",
       "version_major": 2,
       "version_minor": 0
      },
      "text/plain": [
       "interactive(children=(Dropdown(description='Year of interest', options=('ALL', 2051, 2056, 2061, 2066, 2071, 2…"
      ]
     },
     "metadata": {},
     "output_type": "display_data"
    }
   ],
   "source": [
    "showGUI()"
   ]
  },
  {
   "cell_type": "code",
   "execution_count": null,
   "id": "ff2a4e0b",
   "metadata": {},
   "outputs": [],
   "source": []
  }
 ],
 "metadata": {
  "kernelspec": {
   "display_name": "Python 3 (ipykernel)",
   "language": "python",
   "name": "python3"
  },
  "language_info": {
   "codemirror_mode": {
    "name": "ipython",
    "version": 3
   },
   "file_extension": ".py",
   "mimetype": "text/x-python",
   "name": "python",
   "nbconvert_exporter": "python",
   "pygments_lexer": "ipython3",
   "version": "3.9.12"
  }
 },
 "nbformat": 4,
 "nbformat_minor": 5
}
