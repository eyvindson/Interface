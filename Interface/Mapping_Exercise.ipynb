{
 "cells": [
  {
   "cell_type": "code",
   "execution_count": 1,
   "id": "13fc09ce",
   "metadata": {},
   "outputs": [
    {
     "data": {
      "text/html": [
       "<style>\n",
       "        .widget-label { min-width: 60% !important; }\n",
       "        </style>"
      ],
      "text/plain": [
       "<IPython.core.display.HTML object>"
      ]
     },
     "metadata": {},
     "output_type": "display_data"
    },
    {
     "data": {
      "application/vnd.jupyter.widget-view+json": {
       "model_id": "2163d2c5b8f64380b995a11429562b13",
       "version_major": 2,
       "version_minor": 0
      },
      "text/plain": [
       "interactive(children=(Dropdown(description='values', options=('V', 'i_Vm3', 'Harvested_V', 'Harvested_V_log_un…"
      ]
     },
     "metadata": {},
     "output_type": "display_data"
    },
    {
     "data": {
      "text/html": [
       "<style>\n",
       "        .widget-label { min-width: 60% !important; }\n",
       "        </style>"
      ],
      "text/plain": [
       "<IPython.core.display.HTML object>"
      ]
     },
     "metadata": {},
     "output_type": "display_data"
    },
    {
     "data": {
      "application/vnd.jupyter.widget-view+json": {
       "model_id": "38ef5e41064a45bfb6b90c2832d3de96",
       "version_major": 2,
       "version_minor": 0
      },
      "text/plain": [
       "interactive(children=(Dropdown(description='Year of interest', options=('ALL', 2051, 2056, 2061, 2066, 2071, 2…"
      ]
     },
     "metadata": {},
     "output_type": "display_data"
    }
   ],
   "source": [
    "import os\n",
    "import sys\n",
    "module_path = os.path.abspath(os.path.join(''))\n",
    "module_path+\"\\\\Interface\"\n",
    "if module_path not in sys.path:\n",
    "    sys.path.append(module_path+\"/py_class\")\n",
    "\n",
    "import mapping as MT\n"
   ]
  },
  {
   "cell_type": "code",
   "execution_count": null,
   "id": "84a76113",
   "metadata": {},
   "outputs": [],
   "source": [
    "MT.MT.sel_stand"
   ]
  },
  {
   "cell_type": "code",
   "execution_count": null,
   "id": "87b1e097",
   "metadata": {},
   "outputs": [],
   "source": [
    "#DISPLAYING UNOPTIMIZED MAPS & Tables\n",
    "#MAP\n",
    "import requests\n",
    "from pathlib import Path\n",
    "from zipfile import ZipFile\n",
    "import geopandas as gpd\n",
    "import numpy as np\n",
    "import plotly.express as px\n",
    "import plotly.graph_objs as go\n",
    "from ipywidgets import Button, HBox, VBox,interact\n",
    "from IPython.display import display, HTML\n",
    "from IPython.display import clear_output\n",
    "import ipywidgets as widgets\n",
    "import numpy\n",
    "\n",
    "\n",
    "# open it...\n",
    "\n",
    "class Mapping_table:\n",
    "    def __init__(self):\n",
    "        \n",
    "        self.geodf = gpd.read_file(\"C:/Users/kyey/Documents/Interface/Region.geojson\") ## Data with geometry\n",
    "        # shape file is a different CRS,  change to lon/lat GPS co-ordinates\n",
    "        self.geodf = self.geodf.to_crs(\"WGS84\")\n",
    "\n",
    "        import pandas as pd\n",
    "        #dat = pd.read_csv(\"C:/Users/kyey/Documents/DATA.csv\",sep=\";\") #Simulated data\n",
    "        self.dat = pd.read_hdf(\"C:/Users/kyey/Documents/Interface/DATA/DATA.h5\")\n",
    "\n",
    "        #Merging databases together - linking spatial information with simulated\n",
    "        self.geometry = pd.DataFrame(list(set(self.dat['id'])),self.geodf['geometry'])\n",
    "        self.d = {'geometry':self.geodf['geometry'], 'id1': list(set(self.dat['id']))}\n",
    "        self.geometry = pd.DataFrame(self.d)\n",
    "\n",
    "        self.geodf1 = self.dat.merge(self.geometry,left_on=\"id\",right_on=\"id1\")\n",
    "        self.geometry = self.geodf1['geometry']\n",
    "        self.geodf1.drop('geometry',axis=1)\n",
    "        self.geodf1 = gpd.GeoDataFrame(self.geodf1,crs=\"WGS84\",geometry=self.geometry)\n",
    "\n",
    "\n",
    "    def selection_fn(self,trace,points,selector):\n",
    "        #geodf2 = geodf1[(geodf1['year'] == year) & (geodf1['regime'] == regime)]\n",
    "        bb = [[self.geodf2.iloc[points.point_inds][col] for col in ['id']]]\n",
    "        self.sel_stand = [bb[0][0].iloc[i] for i in range(0,len(bb[0][0]))]\n",
    "\n",
    "\n",
    "    def on_display_map(self,**kwargs):\n",
    "        display(kwargs)\n",
    "        clear_output()\n",
    "        self.geodf2 = self.geodf1[(self.geodf1['year'] == kwargs['year']) & (self.geodf1['regime'] == kwargs['regime'])]\n",
    "        \n",
    "        fig = px.choropleth_mapbox(self.geodf2.set_index(\"id\"),    geojson=self.geodf2.geometry,    locations=self.geodf2.index,    color=kwargs['values'],    center=dict(lat= 62.82633, lon=21.259906),    mapbox_style=\"open-street-map\",opacity =0.4,    zoom=13,)\n",
    "        fig.update_layout(    height=500,    autosize=True,    margin={\"r\": 0, \"t\": 0, \"l\": 0, \"b\": 0})#\n",
    "        ff =go.FigureWidget(fig)\n",
    "        scatter = ff.data[0]\n",
    "        scatter.on_selection(self.selection_fn)\n",
    "        display(VBox([ff]))\n",
    "\n",
    "    def on_display_table(self,**kwargs):\n",
    "        clear_output()\n",
    "        if 'sel_stand' in globals():\n",
    "\n",
    "            t = go.FigureWidget([go.Table(\n",
    "                header=dict(values=['id','year']+[kwargs['1']+kwargs['2']+kwargs['3']],#variables of interest in map -- could be a cross box (?)\n",
    "                            fill = dict(color='#C2D4FF'),\n",
    "                            align = ['left'] * 5),\n",
    "                cells=dict(values=[self.geodf2[col] for col in ['id']+[kwargs['1']+kwargs['2']+kwargs['3']]],#variables of interest in map -- could be a cross box (?)\n",
    "                           fill = dict(color='#F5F8FF'),\n",
    "                           align = ['left'] * 5))])\n",
    "        display(VBox([t]))\n",
    "\n",
    "    def on_display_table(self,**kwargs):\n",
    "        display(kwargs)\n",
    "        #clear_output()\n",
    "        if 'sel_stand' in globals():\n",
    "            if kwargs['Year of interest'] != \"ALL\" and kwargs['Regime of interest'] != \"ALL\":\n",
    "                geodfv = self.geodf1[(self.geodf1['year'] == kwargs['Year of interest']) & (self.geodf1['regime'] == kwargs['Regime of interest'])]\n",
    "            elif kwargs['Year of interest'] == \"ALL\":\n",
    "                geodfv = self.geodf1[(self.geodf1['regime'] == kwargs['Regime of interest'])]\n",
    "            elif kwargs['Regime of interest'] == \"ALL\":\n",
    "                geodfv = self.geodf1[(self.geodf1['year'] == kwargs['Year of interest'])]\n",
    "            else:\n",
    "                geodfv = self.geodf1\n",
    "            geodfv = geodfv[geodfv['id'].isin(sel_stand)]\n",
    "            t = go.FigureWidget([go.Table(\n",
    "                header=dict(values=['id',\"regime\",\"year\"]+[kwargs['Column 1'],kwargs['Column 2'],kwargs['Column 3']],#variables of interest in map -- could be a cross box (?)\n",
    "                            fill = dict(color='#C2D4FF'),\n",
    "                            align = ['left'] * 5),\n",
    "                cells=dict(values=[geodfv[col] for col in ['id','regime','year']+[kwargs['Column 1'],kwargs['Column 2'],kwargs['Column 3']]],#variables of interest in map -- could be a cross box (?)\n",
    "                           fill = dict(color='#F5F8FF'),\n",
    "                           align = ['left'] * 5))])\n",
    "            display(VBox([t]))\n",
    "        else:\n",
    "            if kwargs['Year of interest'] != \"ALL\" and kwargs['Regime of interest'] != \"ALL\":\n",
    "                geodfv = self.geodf1[(self.geodf1['year'] == kwargs['Year of interest']) & (self.geodf1['regime'] == kwargs['Regime of interest'])]\n",
    "            elif kwargs['Year of interest'] == \"ALL\":\n",
    "                geodfv = self.geodf1[(self.geodf1['regime'] == kwargs['Regime of interest'])]\n",
    "            elif kwargs['Regime of interest'] == \"ALL\":\n",
    "                geodfv = self.geodf1[(self.geodf1['year'] == kwargs['Year of interest'])]\n",
    "            else:\n",
    "                geodfv = self.geodf1\n",
    "\n",
    "            t = go.FigureWidget([go.Table(\n",
    "                header=dict(values=['id',\"regime\",\"year\"]+[kwargs['Column 1'],kwargs['Column 2'],kwargs['Column 3']],#variables of interest in map -- could be a cross box (?)\n",
    "                            fill = dict(color='#C2D4FF'),\n",
    "                            align = ['left'] * 5),\n",
    "                cells=dict(values=[geodfv[col] for col in ['id',\"regime\",'year']+[kwargs['Column 1'],kwargs['Column 2'],kwargs['Column 3']]],#variables of interest in map -- could be a cross box (?)\n",
    "                           fill = dict(color='#F5F8FF'),\n",
    "                           align = ['left'] * 5))])\n",
    "            display(VBox([t]))\n",
    "\n",
    "\n",
    "    \n",
    "\n",
    "    def showGUI(self):\n",
    "        colTypeChooser = widgets.interactive(self.on_display_map,{\"manual\":True,\"manual_name\": \"Display / Update Map\"},**{'values':list(geodf1.columns)[1:],'year':list(set(geodf1.year)),'regime':list(set(geodf1.regime))})\n",
    "\n",
    "        TablecolTypeChooser = widgets.interactive(self.on_display_table,{\"manual\":True,\"manual_name\": \"Display / Update Table\"},**{'Year of interest':[\"ALL\"]+list(set(geodf1.year)),'Regime of interest':[\"ALL\"]+list(set(geodf1.regime)),'Column 1':list(geodf1.columns)[3:],'Column 2':list(geodf1.columns)[3:],'Column 3':list(geodf1.columns)[3:]})\n",
    "\n",
    "        display(HTML('''<style>\n",
    "        .widget-label { min-width: 60% !important; }\n",
    "        </style>'''))\n",
    "        display(colTypeChooser)\n",
    "\n",
    "        display(HTML('''<style>\n",
    "        .widget-label { min-width: 60% !important; }\n",
    "        </style>'''))\n",
    "        display(TablecolTypeChooser)"
   ]
  },
  {
   "cell_type": "code",
   "execution_count": null,
   "id": "e7caf729",
   "metadata": {},
   "outputs": [],
   "source": [
    "MT = Mapping_table()"
   ]
  },
  {
   "cell_type": "code",
   "execution_count": null,
   "id": "ff2a4e0b",
   "metadata": {},
   "outputs": [],
   "source": [
    "#geodfv = \n",
    "geodf1[(geodf1['year'] == 2066)]"
   ]
  },
  {
   "cell_type": "code",
   "execution_count": null,
   "id": "fea20351",
   "metadata": {
    "scrolled": false
   },
   "outputs": [],
   "source": [
    "MT.showGUI()"
   ]
  },
  {
   "cell_type": "code",
   "execution_count": null,
   "id": "bfe00b2d",
   "metadata": {},
   "outputs": [],
   "source": [
    "sel_stand"
   ]
  },
  {
   "cell_type": "code",
   "execution_count": null,
   "id": "cc4bea09",
   "metadata": {
    "scrolled": false
   },
   "outputs": [],
   "source": [
    "import geopandas as gpd\n",
    "import matplotlib.pyplot as plt\n",
    "path= \"C:/Users/kyey/Downloads/MML_laserit/\"\n",
    "fig, ax = plt.subplots(figsize=(8, 4), dpi=100)\n",
    "k = 0\n",
    "for i in [\"2008\",\"2009\",\"2010\",\"2011\",\"2012\",\"2013\",\"2014\",\"2015\",\"2016\",\"2017\",\"2018\",\"2019\"]:\n",
    "    file= i+\"_keilausalueet.shp\"\n",
    "    f = gpd.read_file(path+file,color = k)\n",
    "    f.plot(ax = ax)\n",
    "    k=k+1"
   ]
  },
  {
   "cell_type": "code",
   "execution_count": null,
   "id": "997d9944",
   "metadata": {},
   "outputs": [],
   "source": [
    "f.plot()"
   ]
  },
  {
   "cell_type": "code",
   "execution_count": null,
   "id": "69fad372",
   "metadata": {},
   "outputs": [],
   "source": []
  }
 ],
 "metadata": {
  "kernelspec": {
   "display_name": "Python 3 (ipykernel)",
   "language": "python",
   "name": "python3"
  },
  "language_info": {
   "codemirror_mode": {
    "name": "ipython",
    "version": 3
   },
   "file_extension": ".py",
   "mimetype": "text/x-python",
   "name": "python",
   "nbconvert_exporter": "python",
   "pygments_lexer": "ipython3",
   "version": "3.9.12"
  }
 },
 "nbformat": 4,
 "nbformat_minor": 5
}
